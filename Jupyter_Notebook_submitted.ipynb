{
 "cells": [
  {
   "cell_type": "markdown",
   "metadata": {},
   "source": [
    "<center>\n",
    "    <img src=\"https://s3-api.us-geo.objectstorage.softlayer.net/cf-courses-data/CognitiveClass/Logos/organization_logo/organization_logo.png\" width=\"300\" alt=\"cognitiveclass.ai logo\"  />\n",
    "</center>\n"
   ]
  },
  {
   "cell_type": "markdown",
   "metadata": {},
   "source": [
    "#### Add your code below following the instructions given in the course\n"
   ]
  },
  {
   "cell_type": "markdown",
   "metadata": {},
   "source": [
    "# My Jupyter Notebook on IBM Watson Studio"
   ]
  },
  {
   "cell_type": "markdown",
   "metadata": {},
   "source": [
    "**Saeed**\n",
    "\n",
    "Computer Engineer"
   ]
  },
  {
   "cell_type": "markdown",
   "metadata": {},
   "source": [
    "_I am interested in data science because a lot can be learned from data by computers that we humans may not be able to learn or oboserve. This has opened doors to many new opportunities to advance tehcnology in my field of work._"
   ]
  },
  {
   "cell_type": "markdown",
   "metadata": {},
   "source": [
    "### The following cell adds two numbers and displays the outcome."
   ]
  },
  {
   "cell_type": "code",
   "execution_count": 1,
   "metadata": {},
   "outputs": [
    {
     "name": "stdout",
     "output_type": "stream",
     "text": [
      "outcome is: 5\n"
     ]
    }
   ],
   "source": [
    "a=2;\n",
    "b=3;\n",
    "c = a+b;\n",
    "print(\"outcome is:\", c)"
   ]
  },
  {
   "cell_type": "markdown",
   "metadata": {},
   "source": [
    "1. Items 1 to 5 in this cell are example of **numbered list**.\n",
    "\n",
    "2. Here is a sampple **strikethrough** word. To strikethrough, we can use two tildes: ~~Scratch this.~~\n",
    "\n",
    "\n",
    "3. Here is a sample **table**.\n",
    "\n",
    "| Column 1 | Column 2 | Column3 |\n",
    "| --- | --- | --- |\n",
    "| Data 11 | Data12 | Data 13 |\n",
    "| Data 21 | Data22 | Data 23 |\n",
    "\n",
    "\n",
    "\n",
    "4. Here is a sample **blockquotes**:\n",
    "\n",
    "> This text is displayed as Blockquotes\n",
    "\n",
    "5. Here is an example of **code and syntax highlighting**:\n",
    "\n",
    "```python\n",
    "s = \"Hello World!\"\n",
    "print s\n",
    "```\n"
   ]
  },
  {
   "cell_type": "code",
   "execution_count": null,
   "metadata": {},
   "outputs": [],
   "source": []
  }
 ],
 "metadata": {
  "kernelspec": {
   "display_name": "Python",
   "language": "python",
   "name": "conda-env-python-py"
  },
  "language_info": {
   "codemirror_mode": {
    "name": "ipython",
    "version": 3
   },
   "file_extension": ".py",
   "mimetype": "text/x-python",
   "name": "python",
   "nbconvert_exporter": "python",
   "pygments_lexer": "ipython3",
   "version": "3.7.12"
  }
 },
 "nbformat": 4,
 "nbformat_minor": 4
}
